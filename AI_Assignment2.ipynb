{
 "cells": [
  {
   "cell_type": "code",
   "execution_count": 1,
   "metadata": {},
   "outputs": [],
   "source": [
    "import numpy as np"
   ]
  },
  {
   "cell_type": "code",
   "execution_count": 2,
   "metadata": {},
   "outputs": [],
   "source": [
    "import pandas as pd"
   ]
  },
  {
   "cell_type": "code",
   "execution_count": 55,
   "metadata": {},
   "outputs": [],
   "source": [
    " g = {  51  : [ 3 ],\n",
    "           3  : [ 6 , 9 ],\n",
    "           6  : [ 57 ,  8 ],\n",
    "           57  : [  ],\n",
    "           9  : [ 3 , 8 ],\n",
    "           8  : [ 6 , 9 , 42 , 1 ],\n",
    "           42  : [ 8 ],\n",
    "           1  : [ 8 , 14 ],\n",
    "           14  : [ 1 , 97 ],\n",
    "           97  : [ 14 ]\n",
    "        }"
   ]
  },
  {
   "cell_type": "markdown",
   "metadata": {},
   "source": [
    "# Count of vertices in the graph"
   ]
  },
  {
   "cell_type": "code",
   "execution_count": 56,
   "metadata": {},
   "outputs": [
    {
     "name": "stdout",
     "output_type": "stream",
     "text": [
      "No. of vertices in the graph : 10\n"
     ]
    }
   ],
   "source": [
    "print(\"No. of vertices in the graph :\",len(g))"
   ]
  },
  {
   "cell_type": "markdown",
   "metadata": {},
   "source": [
    "# Searching for nodes in the graph "
   ]
  },
  {
   "cell_type": "code",
   "execution_count": 65,
   "metadata": {},
   "outputs": [
    {
     "name": "stdout",
     "output_type": "stream",
     "text": [
      "Enter the node to be searched :57\n"
     ]
    }
   ],
   "source": [
    "node = int(input (\"Enter the node to be searched :\"))"
   ]
  },
  {
   "cell_type": "code",
   "execution_count": 67,
   "metadata": {},
   "outputs": [
    {
     "name": "stdout",
     "output_type": "stream",
     "text": [
      "Node present\n"
     ]
    }
   ],
   "source": [
    "flag = 0\n",
    "for i in g.keys():\n",
    "    if node == i:\n",
    "        flag =1\n",
    "        break\n",
    "    else:\n",
    "        flag =0\n",
    "if flag == 1:\n",
    "    print(\"Node present\")\n",
    "elif flag ==0:\n",
    "    print(\"Node not present\")\n",
    "    "
   ]
  },
  {
   "cell_type": "markdown",
   "metadata": {},
   "source": [
    "# Breadth First Search"
   ]
  },
  {
   "cell_type": "code",
   "execution_count": 43,
   "metadata": {},
   "outputs": [
    {
     "name": "stdout",
     "output_type": "stream",
     "text": [
      "BFS Traversal: [51, 3, 6, 9, 57, 8, 42, 1, 14, 97]\n"
     ]
    }
   ],
   "source": [
    "def BFS(start):\n",
    "    visited = []\n",
    "    queue=[start]\n",
    "    while queue:\n",
    "        node = queue.pop(0)\n",
    "        if node not in visited:\n",
    "            visited.append(node)\n",
    "            neighbors = g[node]\n",
    "            for i in neighbors:\n",
    "                queue.append(i)\n",
    "    return visited\n",
    "l=[]\n",
    "l=BFS(51)\n",
    "print(\"BFS Traversal:\",l)         \n",
    "    "
   ]
  },
  {
   "cell_type": "markdown",
   "metadata": {},
   "source": [
    "# Depth First Search"
   ]
  },
  {
   "cell_type": "code",
   "execution_count": 54,
   "metadata": {},
   "outputs": [
    {
     "name": "stdout",
     "output_type": "stream",
     "text": [
      "DFS Traversal: [51, 3, 9, 8, 1, 14, 97, 42, 6, 57]\n"
     ]
    }
   ],
   "source": [
    "def DFS(start):\n",
    "    visited=[]\n",
    "    queue=[start]\n",
    "    while queue:\n",
    "        node = queue.pop()\n",
    "        if node in visited:\n",
    "            continue\n",
    "        visited.append(node)\n",
    "        for i in g[node]:\n",
    "            queue.append(i)\n",
    "    return visited\n",
    "l=[]\n",
    "l=DFS(51)\n",
    "print(\"DFS Traversal:\",l)       "
   ]
  },
  {
   "cell_type": "code",
   "execution_count": null,
   "metadata": {},
   "outputs": [],
   "source": []
  }
 ],
 "metadata": {
  "kernelspec": {
   "display_name": "Python 3",
   "language": "python",
   "name": "python3"
  },
  "language_info": {
   "codemirror_mode": {
    "name": "ipython",
    "version": 3
   },
   "file_extension": ".py",
   "mimetype": "text/x-python",
   "name": "python",
   "nbconvert_exporter": "python",
   "pygments_lexer": "ipython3",
   "version": "3.7.3"
  }
 },
 "nbformat": 4,
 "nbformat_minor": 2
}
