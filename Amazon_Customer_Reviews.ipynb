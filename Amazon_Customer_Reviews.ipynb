{
  "nbformat": 4,
  "nbformat_minor": 0,
  "metadata": {
    "kernelspec": {
      "name": "python3",
      "display_name": "Python 3"
    },
    "language_info": {
      "codemirror_mode": {
        "name": "ipython",
        "version": 3
      },
      "file_extension": ".py",
      "mimetype": "text/x-python",
      "name": "python",
      "nbconvert_exporter": "python",
      "pygments_lexer": "ipython3",
      "version": "3.7.3"
    },
    "colab": {
      "name": "Amazon Customer Reviews.ipynb",
      "version": "0.3.2",
      "provenance": [],
      "collapsed_sections": []
    },
    "accelerator": "GPU"
  },
  "cells": [
    {
      "cell_type": "code",
      "metadata": {
        "id": "3RPo_x5fnn4l",
        "colab_type": "code",
        "colab": {}
      },
      "source": [
        "import nltk as nlt\n",
        "import numpy as np"
      ],
      "execution_count": 0,
      "outputs": []
    },
    {
      "cell_type": "code",
      "metadata": {
        "id": "gsols585nn4q",
        "colab_type": "code",
        "colab": {}
      },
      "source": [
        "import spacy as sp\n",
        "import pandas as pd"
      ],
      "execution_count": 0,
      "outputs": []
    },
    {
      "cell_type": "code",
      "metadata": {
        "id": "-NxYa5VWnn4u",
        "colab_type": "code",
        "colab": {
          "base_uri": "https://localhost:8080/",
          "height": 68
        },
        "outputId": "b33a5591-6694-4f70-fbab-8254e0be5147"
      },
      "source": [
        "!pip install -U -q PyDrive\n",
        "from pydrive.auth import GoogleAuth\n",
        "from pydrive.drive import GoogleDrive\n",
        "from google.colab import auth\n",
        "from oauth2client.client import GoogleCredentials\n",
        "# Authenticate and create the PyDrive client.\n",
        "auth.authenticate_user()\n",
        "gauth = GoogleAuth()\n",
        "gauth.credentials = GoogleCredentials.get_application_default()\n",
        "drive = GoogleDrive(gauth)\n",
        "\n",
        "link = \"https://drive.google.com/open?id=1IhOqWVqtRn8WOnL7IR1yyRiy5ck1nQ83\"\n",
        "fluff, id = link.split('=')\n",
        "print (id) # Verify that you have everything after '='\n",
        "downloaded = drive.CreateFile({'id':id}) \n",
        "downloaded.GetContentFile('customer_reviews.csv')  \n",
        "df = pd.read_csv(\"customer_reviews.csv\")\n"
      ],
      "execution_count": 3,
      "outputs": [
        {
          "output_type": "stream",
          "text": [
            "\u001b[?25l\r\u001b[K     |▎                               | 10kB 22.2MB/s eta 0:00:01\r\u001b[K     |▋                               | 20kB 28.7MB/s eta 0:00:01\r\u001b[K     |█                               | 30kB 34.3MB/s eta 0:00:01\r\u001b[K     |█▎                              | 40kB 28.2MB/s eta 0:00:01\r\u001b[K     |█▋                              | 51kB 27.7MB/s eta 0:00:01\r\u001b[K     |██                              | 61kB 29.2MB/s eta 0:00:01\r\u001b[K     |██▎                             | 71kB 25.2MB/s eta 0:00:01\r\u001b[K     |██▋                             | 81kB 25.8MB/s eta 0:00:01\r\u001b[K     |███                             | 92kB 27.0MB/s eta 0:00:01\r\u001b[K     |███▎                            | 102kB 24.5MB/s eta 0:00:01\r\u001b[K     |███▋                            | 112kB 24.5MB/s eta 0:00:01\r\u001b[K     |████                            | 122kB 24.5MB/s eta 0:00:01\r\u001b[K     |████▎                           | 133kB 24.5MB/s eta 0:00:01\r\u001b[K     |████▋                           | 143kB 24.5MB/s eta 0:00:01\r\u001b[K     |█████                           | 153kB 24.5MB/s eta 0:00:01\r\u001b[K     |█████▎                          | 163kB 24.5MB/s eta 0:00:01\r\u001b[K     |█████▋                          | 174kB 24.5MB/s eta 0:00:01\r\u001b[K     |██████                          | 184kB 24.5MB/s eta 0:00:01\r\u001b[K     |██████▎                         | 194kB 24.5MB/s eta 0:00:01\r\u001b[K     |██████▋                         | 204kB 24.5MB/s eta 0:00:01\r\u001b[K     |███████                         | 215kB 24.5MB/s eta 0:00:01\r\u001b[K     |███████▎                        | 225kB 24.5MB/s eta 0:00:01\r\u001b[K     |███████▋                        | 235kB 24.5MB/s eta 0:00:01\r\u001b[K     |████████                        | 245kB 24.5MB/s eta 0:00:01\r\u001b[K     |████████▎                       | 256kB 24.5MB/s eta 0:00:01\r\u001b[K     |████████▋                       | 266kB 24.5MB/s eta 0:00:01\r\u001b[K     |█████████                       | 276kB 24.5MB/s eta 0:00:01\r\u001b[K     |█████████▎                      | 286kB 24.5MB/s eta 0:00:01\r\u001b[K     |█████████▋                      | 296kB 24.5MB/s eta 0:00:01\r\u001b[K     |██████████                      | 307kB 24.5MB/s eta 0:00:01\r\u001b[K     |██████████▎                     | 317kB 24.5MB/s eta 0:00:01\r\u001b[K     |██████████▋                     | 327kB 24.5MB/s eta 0:00:01\r\u001b[K     |███████████                     | 337kB 24.5MB/s eta 0:00:01\r\u001b[K     |███████████▎                    | 348kB 24.5MB/s eta 0:00:01\r\u001b[K     |███████████▋                    | 358kB 24.5MB/s eta 0:00:01\r\u001b[K     |████████████                    | 368kB 24.5MB/s eta 0:00:01\r\u001b[K     |████████████▎                   | 378kB 24.5MB/s eta 0:00:01\r\u001b[K     |████████████▋                   | 389kB 24.5MB/s eta 0:00:01\r\u001b[K     |█████████████                   | 399kB 24.5MB/s eta 0:00:01\r\u001b[K     |█████████████▎                  | 409kB 24.5MB/s eta 0:00:01\r\u001b[K     |█████████████▋                  | 419kB 24.5MB/s eta 0:00:01\r\u001b[K     |██████████████                  | 430kB 24.5MB/s eta 0:00:01\r\u001b[K     |██████████████▎                 | 440kB 24.5MB/s eta 0:00:01\r\u001b[K     |██████████████▋                 | 450kB 24.5MB/s eta 0:00:01\r\u001b[K     |███████████████                 | 460kB 24.5MB/s eta 0:00:01\r\u001b[K     |███████████████▎                | 471kB 24.5MB/s eta 0:00:01\r\u001b[K     |███████████████▋                | 481kB 24.5MB/s eta 0:00:01\r\u001b[K     |████████████████                | 491kB 24.5MB/s eta 0:00:01\r\u001b[K     |████████████████▎               | 501kB 24.5MB/s eta 0:00:01\r\u001b[K     |████████████████▋               | 512kB 24.5MB/s eta 0:00:01\r\u001b[K     |█████████████████               | 522kB 24.5MB/s eta 0:00:01\r\u001b[K     |█████████████████▎              | 532kB 24.5MB/s eta 0:00:01\r\u001b[K     |█████████████████▋              | 542kB 24.5MB/s eta 0:00:01\r\u001b[K     |██████████████████              | 552kB 24.5MB/s eta 0:00:01\r\u001b[K     |██████████████████▎             | 563kB 24.5MB/s eta 0:00:01\r\u001b[K     |██████████████████▋             | 573kB 24.5MB/s eta 0:00:01\r\u001b[K     |███████████████████             | 583kB 24.5MB/s eta 0:00:01\r\u001b[K     |███████████████████▎            | 593kB 24.5MB/s eta 0:00:01\r\u001b[K     |███████████████████▋            | 604kB 24.5MB/s eta 0:00:01\r\u001b[K     |████████████████████            | 614kB 24.5MB/s eta 0:00:01\r\u001b[K     |████████████████████▎           | 624kB 24.5MB/s eta 0:00:01\r\u001b[K     |████████████████████▋           | 634kB 24.5MB/s eta 0:00:01\r\u001b[K     |█████████████████████           | 645kB 24.5MB/s eta 0:00:01\r\u001b[K     |█████████████████████▎          | 655kB 24.5MB/s eta 0:00:01\r\u001b[K     |█████████████████████▋          | 665kB 24.5MB/s eta 0:00:01\r\u001b[K     |██████████████████████          | 675kB 24.5MB/s eta 0:00:01\r\u001b[K     |██████████████████████▎         | 686kB 24.5MB/s eta 0:00:01\r\u001b[K     |██████████████████████▋         | 696kB 24.5MB/s eta 0:00:01\r\u001b[K     |███████████████████████         | 706kB 24.5MB/s eta 0:00:01\r\u001b[K     |███████████████████████▎        | 716kB 24.5MB/s eta 0:00:01\r\u001b[K     |███████████████████████▋        | 727kB 24.5MB/s eta 0:00:01\r\u001b[K     |████████████████████████        | 737kB 24.5MB/s eta 0:00:01\r\u001b[K     |████████████████████████▎       | 747kB 24.5MB/s eta 0:00:01\r\u001b[K     |████████████████████████▋       | 757kB 24.5MB/s eta 0:00:01\r\u001b[K     |████████████████████████▉       | 768kB 24.5MB/s eta 0:00:01\r\u001b[K     |█████████████████████████▏      | 778kB 24.5MB/s eta 0:00:01\r\u001b[K     |█████████████████████████▌      | 788kB 24.5MB/s eta 0:00:01\r\u001b[K     |█████████████████████████▉      | 798kB 24.5MB/s eta 0:00:01\r\u001b[K     |██████████████████████████▏     | 808kB 24.5MB/s eta 0:00:01\r\u001b[K     |██████████████████████████▌     | 819kB 24.5MB/s eta 0:00:01\r\u001b[K     |██████████████████████████▉     | 829kB 24.5MB/s eta 0:00:01\r\u001b[K     |███████████████████████████▏    | 839kB 24.5MB/s eta 0:00:01\r\u001b[K     |███████████████████████████▌    | 849kB 24.5MB/s eta 0:00:01\r\u001b[K     |███████████████████████████▉    | 860kB 24.5MB/s eta 0:00:01\r\u001b[K     |████████████████████████████▏   | 870kB 24.5MB/s eta 0:00:01\r\u001b[K     |████████████████████████████▌   | 880kB 24.5MB/s eta 0:00:01\r\u001b[K     |████████████████████████████▉   | 890kB 24.5MB/s eta 0:00:01\r\u001b[K     |█████████████████████████████▏  | 901kB 24.5MB/s eta 0:00:01\r\u001b[K     |█████████████████████████████▌  | 911kB 24.5MB/s eta 0:00:01\r\u001b[K     |█████████████████████████████▉  | 921kB 24.5MB/s eta 0:00:01\r\u001b[K     |██████████████████████████████▏ | 931kB 24.5MB/s eta 0:00:01\r\u001b[K     |██████████████████████████████▌ | 942kB 24.5MB/s eta 0:00:01\r\u001b[K     |██████████████████████████████▉ | 952kB 24.5MB/s eta 0:00:01\r\u001b[K     |███████████████████████████████▏| 962kB 24.5MB/s eta 0:00:01\r\u001b[K     |███████████████████████████████▌| 972kB 24.5MB/s eta 0:00:01\r\u001b[K     |███████████████████████████████▉| 983kB 24.5MB/s eta 0:00:01\r\u001b[K     |████████████████████████████████| 993kB 24.5MB/s \n",
            "\u001b[?25h  Building wheel for PyDrive (setup.py) ... \u001b[?25l\u001b[?25hdone\n",
            "1IhOqWVqtRn8WOnL7IR1yyRiy5ck1nQ83\n"
          ],
          "name": "stdout"
        }
      ]
    },
    {
      "cell_type": "code",
      "metadata": {
        "id": "bUBpfGBPnn40",
        "colab_type": "code",
        "colab": {
          "base_uri": "https://localhost:8080/",
          "height": 34
        },
        "outputId": "74b7ac22-ee66-441a-f81c-bca2682d3394"
      },
      "source": [
        "df.shape"
      ],
      "execution_count": 4,
      "outputs": [
        {
          "output_type": "execute_result",
          "data": {
            "text/plain": [
              "(28332, 24)"
            ]
          },
          "metadata": {
            "tags": []
          },
          "execution_count": 4
        }
      ]
    },
    {
      "cell_type": "code",
      "metadata": {
        "id": "eefyE_BHnn48",
        "colab_type": "code",
        "colab": {
          "base_uri": "https://localhost:8080/",
          "height": 564
        },
        "outputId": "faac37c0-845c-4386-db3d-8a60ccbb10f1"
      },
      "source": [
        "df.head()"
      ],
      "execution_count": 5,
      "outputs": [
        {
          "output_type": "execute_result",
          "data": {
            "text/html": [
              "<div>\n",
              "<style scoped>\n",
              "    .dataframe tbody tr th:only-of-type {\n",
              "        vertical-align: middle;\n",
              "    }\n",
              "\n",
              "    .dataframe tbody tr th {\n",
              "        vertical-align: top;\n",
              "    }\n",
              "\n",
              "    .dataframe thead th {\n",
              "        text-align: right;\n",
              "    }\n",
              "</style>\n",
              "<table border=\"1\" class=\"dataframe\">\n",
              "  <thead>\n",
              "    <tr style=\"text-align: right;\">\n",
              "      <th></th>\n",
              "      <th>id</th>\n",
              "      <th>dateAdded</th>\n",
              "      <th>dateUpdated</th>\n",
              "      <th>name</th>\n",
              "      <th>asins</th>\n",
              "      <th>brand</th>\n",
              "      <th>categories</th>\n",
              "      <th>primaryCategories</th>\n",
              "      <th>imageURLs</th>\n",
              "      <th>keys</th>\n",
              "      <th>manufacturer</th>\n",
              "      <th>manufacturerNumber</th>\n",
              "      <th>reviews.date</th>\n",
              "      <th>reviews.dateSeen</th>\n",
              "      <th>reviews.didPurchase</th>\n",
              "      <th>reviews.doRecommend</th>\n",
              "      <th>reviews.id</th>\n",
              "      <th>reviews.numHelpful</th>\n",
              "      <th>reviews.rating</th>\n",
              "      <th>reviews.sourceURLs</th>\n",
              "      <th>reviews.text</th>\n",
              "      <th>reviews.title</th>\n",
              "      <th>reviews.username</th>\n",
              "      <th>sourceURLs</th>\n",
              "    </tr>\n",
              "  </thead>\n",
              "  <tbody>\n",
              "    <tr>\n",
              "      <th>0</th>\n",
              "      <td>AVpgNzjwLJeJML43Kpxn</td>\n",
              "      <td>2015-10-30T08:59:32Z</td>\n",
              "      <td>2019-04-25T09:08:16Z</td>\n",
              "      <td>AmazonBasics AAA Performance Alkaline Batterie...</td>\n",
              "      <td>B00QWO9P0O,B00LH3DMUO</td>\n",
              "      <td>Amazonbasics</td>\n",
              "      <td>AA,AAA,Health,Electronics,Health &amp; Household,C...</td>\n",
              "      <td>Health &amp; Beauty</td>\n",
              "      <td>https://images-na.ssl-images-amazon.com/images...</td>\n",
              "      <td>amazonbasics/hl002619,amazonbasicsaaaperforman...</td>\n",
              "      <td>AmazonBasics</td>\n",
              "      <td>HL-002619</td>\n",
              "      <td>2017-03-02T00:00:00.000Z</td>\n",
              "      <td>2017-08-28T00:00:00Z</td>\n",
              "      <td>NaN</td>\n",
              "      <td>NaN</td>\n",
              "      <td>NaN</td>\n",
              "      <td>NaN</td>\n",
              "      <td>3</td>\n",
              "      <td>https://www.amazon.com/product-reviews/B00QWO9...</td>\n",
              "      <td>I order 3 of them and one of the item is bad q...</td>\n",
              "      <td>... 3 of them and one of the item is bad quali...</td>\n",
              "      <td>Byger yang</td>\n",
              "      <td>https://www.barcodable.com/upc/841710106442,ht...</td>\n",
              "    </tr>\n",
              "    <tr>\n",
              "      <th>1</th>\n",
              "      <td>AVpgNzjwLJeJML43Kpxn</td>\n",
              "      <td>2015-10-30T08:59:32Z</td>\n",
              "      <td>2019-04-25T09:08:16Z</td>\n",
              "      <td>AmazonBasics AAA Performance Alkaline Batterie...</td>\n",
              "      <td>B00QWO9P0O,B00LH3DMUO</td>\n",
              "      <td>Amazonbasics</td>\n",
              "      <td>AA,AAA,Health,Electronics,Health &amp; Household,C...</td>\n",
              "      <td>Health &amp; Beauty</td>\n",
              "      <td>https://images-na.ssl-images-amazon.com/images...</td>\n",
              "      <td>amazonbasics/hl002619,amazonbasicsaaaperforman...</td>\n",
              "      <td>AmazonBasics</td>\n",
              "      <td>HL-002619</td>\n",
              "      <td>2016-08-31T00:00:00.000Z</td>\n",
              "      <td>2017-08-28T00:00:00Z</td>\n",
              "      <td>NaN</td>\n",
              "      <td>NaN</td>\n",
              "      <td>NaN</td>\n",
              "      <td>NaN</td>\n",
              "      <td>4</td>\n",
              "      <td>https://www.amazon.com/product-reviews/B00QWO9...</td>\n",
              "      <td>Bulk is always the less expensive way to go fo...</td>\n",
              "      <td>... always the less expensive way to go for pr...</td>\n",
              "      <td>ByMG</td>\n",
              "      <td>https://www.barcodable.com/upc/841710106442,ht...</td>\n",
              "    </tr>\n",
              "    <tr>\n",
              "      <th>2</th>\n",
              "      <td>AVpgNzjwLJeJML43Kpxn</td>\n",
              "      <td>2015-10-30T08:59:32Z</td>\n",
              "      <td>2019-04-25T09:08:16Z</td>\n",
              "      <td>AmazonBasics AAA Performance Alkaline Batterie...</td>\n",
              "      <td>B00QWO9P0O,B00LH3DMUO</td>\n",
              "      <td>Amazonbasics</td>\n",
              "      <td>AA,AAA,Health,Electronics,Health &amp; Household,C...</td>\n",
              "      <td>Health &amp; Beauty</td>\n",
              "      <td>https://images-na.ssl-images-amazon.com/images...</td>\n",
              "      <td>amazonbasics/hl002619,amazonbasicsaaaperforman...</td>\n",
              "      <td>AmazonBasics</td>\n",
              "      <td>HL-002619</td>\n",
              "      <td>2016-12-06T00:00:00.000Z</td>\n",
              "      <td>2017-08-28T00:00:00Z</td>\n",
              "      <td>NaN</td>\n",
              "      <td>NaN</td>\n",
              "      <td>NaN</td>\n",
              "      <td>NaN</td>\n",
              "      <td>5</td>\n",
              "      <td>https://www.amazon.com/product-reviews/B00QWO9...</td>\n",
              "      <td>Well they are not Duracell but for the price i...</td>\n",
              "      <td>... are not Duracell but for the price i am ha...</td>\n",
              "      <td>BySharon Lambert</td>\n",
              "      <td>https://www.barcodable.com/upc/841710106442,ht...</td>\n",
              "    </tr>\n",
              "    <tr>\n",
              "      <th>3</th>\n",
              "      <td>AVpgNzjwLJeJML43Kpxn</td>\n",
              "      <td>2015-10-30T08:59:32Z</td>\n",
              "      <td>2019-04-25T09:08:16Z</td>\n",
              "      <td>AmazonBasics AAA Performance Alkaline Batterie...</td>\n",
              "      <td>B00QWO9P0O,B00LH3DMUO</td>\n",
              "      <td>Amazonbasics</td>\n",
              "      <td>AA,AAA,Health,Electronics,Health &amp; Household,C...</td>\n",
              "      <td>Health &amp; Beauty</td>\n",
              "      <td>https://images-na.ssl-images-amazon.com/images...</td>\n",
              "      <td>amazonbasics/hl002619,amazonbasicsaaaperforman...</td>\n",
              "      <td>AmazonBasics</td>\n",
              "      <td>HL-002619</td>\n",
              "      <td>2016-03-28T00:00:00.000Z</td>\n",
              "      <td>2017-08-28T00:00:00Z</td>\n",
              "      <td>NaN</td>\n",
              "      <td>NaN</td>\n",
              "      <td>NaN</td>\n",
              "      <td>NaN</td>\n",
              "      <td>5</td>\n",
              "      <td>https://www.amazon.com/product-reviews/B00QWO9...</td>\n",
              "      <td>Seem to work as well as name brand batteries a...</td>\n",
              "      <td>... as well as name brand batteries at a much ...</td>\n",
              "      <td>Bymark sexson</td>\n",
              "      <td>https://www.barcodable.com/upc/841710106442,ht...</td>\n",
              "    </tr>\n",
              "    <tr>\n",
              "      <th>4</th>\n",
              "      <td>AVpgNzjwLJeJML43Kpxn</td>\n",
              "      <td>2015-10-30T08:59:32Z</td>\n",
              "      <td>2019-04-25T09:08:16Z</td>\n",
              "      <td>AmazonBasics AAA Performance Alkaline Batterie...</td>\n",
              "      <td>B00QWO9P0O,B00LH3DMUO</td>\n",
              "      <td>Amazonbasics</td>\n",
              "      <td>AA,AAA,Health,Electronics,Health &amp; Household,C...</td>\n",
              "      <td>Health &amp; Beauty</td>\n",
              "      <td>https://images-na.ssl-images-amazon.com/images...</td>\n",
              "      <td>amazonbasics/hl002619,amazonbasicsaaaperforman...</td>\n",
              "      <td>AmazonBasics</td>\n",
              "      <td>HL-002619</td>\n",
              "      <td>2017-04-22T00:00:00.000Z</td>\n",
              "      <td>2017-08-28T00:00:00Z</td>\n",
              "      <td>NaN</td>\n",
              "      <td>NaN</td>\n",
              "      <td>NaN</td>\n",
              "      <td>NaN</td>\n",
              "      <td>5</td>\n",
              "      <td>https://www.amazon.com/product-reviews/B00QWO9...</td>\n",
              "      <td>These batteries are very long lasting the pric...</td>\n",
              "      <td>... batteries are very long lasting the price ...</td>\n",
              "      <td>Bylinda</td>\n",
              "      <td>https://www.barcodable.com/upc/841710106442,ht...</td>\n",
              "    </tr>\n",
              "  </tbody>\n",
              "</table>\n",
              "</div>"
            ],
            "text/plain": [
              "                     id  ...                                         sourceURLs\n",
              "0  AVpgNzjwLJeJML43Kpxn  ...  https://www.barcodable.com/upc/841710106442,ht...\n",
              "1  AVpgNzjwLJeJML43Kpxn  ...  https://www.barcodable.com/upc/841710106442,ht...\n",
              "2  AVpgNzjwLJeJML43Kpxn  ...  https://www.barcodable.com/upc/841710106442,ht...\n",
              "3  AVpgNzjwLJeJML43Kpxn  ...  https://www.barcodable.com/upc/841710106442,ht...\n",
              "4  AVpgNzjwLJeJML43Kpxn  ...  https://www.barcodable.com/upc/841710106442,ht...\n",
              "\n",
              "[5 rows x 24 columns]"
            ]
          },
          "metadata": {
            "tags": []
          },
          "execution_count": 5
        }
      ]
    },
    {
      "cell_type": "code",
      "metadata": {
        "id": "6q9TvFConn4_",
        "colab_type": "code",
        "colab": {
          "base_uri": "https://localhost:8080/",
          "height": 136
        },
        "outputId": "7ece8361-0a1c-4739-fa87-88ecfbcae52c"
      },
      "source": [
        "df.columns"
      ],
      "execution_count": 6,
      "outputs": [
        {
          "output_type": "execute_result",
          "data": {
            "text/plain": [
              "Index(['id', 'dateAdded', 'dateUpdated', 'name', 'asins', 'brand',\n",
              "       'categories', 'primaryCategories', 'imageURLs', 'keys', 'manufacturer',\n",
              "       'manufacturerNumber', 'reviews.date', 'reviews.dateSeen',\n",
              "       'reviews.didPurchase', 'reviews.doRecommend', 'reviews.id',\n",
              "       'reviews.numHelpful', 'reviews.rating', 'reviews.sourceURLs',\n",
              "       'reviews.text', 'reviews.title', 'reviews.username', 'sourceURLs'],\n",
              "      dtype='object')"
            ]
          },
          "metadata": {
            "tags": []
          },
          "execution_count": 6
        }
      ]
    },
    {
      "cell_type": "code",
      "metadata": {
        "id": "lSq_0pg6nn5G",
        "colab_type": "code",
        "colab": {}
      },
      "source": [
        "dfwhole=df[[\"reviews.text\",\"reviews.rating\",\"categories\"]]"
      ],
      "execution_count": 0,
      "outputs": []
    },
    {
      "cell_type": "code",
      "metadata": {
        "id": "FtIbc2Ohnn5M",
        "colab_type": "code",
        "colab": {
          "base_uri": "https://localhost:8080/",
          "height": 34
        },
        "outputId": "3c63c7ea-049e-49e8-b61f-e8026c9782a2"
      },
      "source": [
        "dfwhole.shape"
      ],
      "execution_count": 8,
      "outputs": [
        {
          "output_type": "execute_result",
          "data": {
            "text/plain": [
              "(28332, 3)"
            ]
          },
          "metadata": {
            "tags": []
          },
          "execution_count": 8
        }
      ]
    },
    {
      "cell_type": "code",
      "metadata": {
        "id": "z248LJR7nn5S",
        "colab_type": "code",
        "colab": {
          "base_uri": "https://localhost:8080/",
          "height": 34
        },
        "outputId": "cc1699e3-5c5a-4917-f984-d0c82e9b847d"
      },
      "source": [
        "dfwhole.columns"
      ],
      "execution_count": 14,
      "outputs": [
        {
          "output_type": "execute_result",
          "data": {
            "text/plain": [
              "Index(['reviews.text', 'reviews.rating', 'categories'], dtype='object')"
            ]
          },
          "metadata": {
            "tags": []
          },
          "execution_count": 14
        }
      ]
    },
    {
      "cell_type": "code",
      "metadata": {
        "id": "dPCm_2LXnn5Y",
        "colab_type": "code",
        "colab": {}
      },
      "source": [
        "from nltk.corpus import stopwords"
      ],
      "execution_count": 0,
      "outputs": []
    },
    {
      "cell_type": "code",
      "metadata": {
        "id": "JZagYKLmnn5b",
        "colab_type": "code",
        "colab": {}
      },
      "source": [
        "from string import punctuation\n",
        "from nltk.tokenize import word_tokenize, sent_tokenize "
      ],
      "execution_count": 0,
      "outputs": []
    },
    {
      "cell_type": "code",
      "metadata": {
        "id": "M6nRAE_bnn5f",
        "colab_type": "code",
        "colab": {
          "base_uri": "https://localhost:8080/",
          "height": 51
        },
        "outputId": "c68476d8-8d29-4540-8824-bb8451f63d99"
      },
      "source": [
        "nlt.download('stopwords')\n",
        "stuff_to_be_removed=list(stopwords.words(\"english\"))+list(punctuation)"
      ],
      "execution_count": 11,
      "outputs": [
        {
          "output_type": "stream",
          "text": [
            "[nltk_data] Downloading package stopwords to /root/nltk_data...\n",
            "[nltk_data]   Unzipping corpora/stopwords.zip.\n"
          ],
          "name": "stdout"
        }
      ]
    },
    {
      "cell_type": "code",
      "metadata": {
        "id": "XEdv7eUJnn5l",
        "colab_type": "code",
        "colab": {
          "base_uri": "https://localhost:8080/",
          "height": 139
        },
        "outputId": "72137e36-12ce-4bbf-99bb-4158f0048350"
      },
      "source": [
        "dfwhole['reviews.text']=dfwhole['reviews.text'].str.lower()"
      ],
      "execution_count": 12,
      "outputs": [
        {
          "output_type": "stream",
          "text": [
            "/usr/local/lib/python3.6/dist-packages/ipykernel_launcher.py:1: SettingWithCopyWarning: \n",
            "A value is trying to be set on a copy of a slice from a DataFrame.\n",
            "Try using .loc[row_indexer,col_indexer] = value instead\n",
            "\n",
            "See the caveats in the documentation: http://pandas.pydata.org/pandas-docs/stable/indexing.html#indexing-view-versus-copy\n",
            "  \"\"\"Entry point for launching an IPython kernel.\n"
          ],
          "name": "stderr"
        }
      ]
    },
    {
      "cell_type": "code",
      "metadata": {
        "id": "puc9ITSdnn5p",
        "colab_type": "code",
        "colab": {}
      },
      "source": [
        "corpus = dfwhole['reviews.text'].tolist()"
      ],
      "execution_count": 0,
      "outputs": []
    },
    {
      "cell_type": "code",
      "metadata": {
        "id": "4386FkJhnn5t",
        "colab_type": "code",
        "colab": {}
      },
      "source": [
        "from nltk.tokenize import word_tokenize"
      ],
      "execution_count": 0,
      "outputs": []
    },
    {
      "cell_type": "code",
      "metadata": {
        "id": "NKHQ6tUsnn5w",
        "colab_type": "code",
        "colab": {}
      },
      "source": [
        "from nltk.stem import LancasterStemmer"
      ],
      "execution_count": 0,
      "outputs": []
    },
    {
      "cell_type": "code",
      "metadata": {
        "id": "Jz1zu99mnn53",
        "colab_type": "code",
        "colab": {
          "base_uri": "https://localhost:8080/",
          "height": 119
        },
        "outputId": "ce4b0858-e589-4a5d-8e5d-e02f8e20cc99"
      },
      "source": [
        "stemmer=LancasterStemmer()\n",
        "from collections import Counter\n",
        "nlt.download('punkt')\n",
        "nlt.download('averaged_perceptron_tagger')"
      ],
      "execution_count": 16,
      "outputs": [
        {
          "output_type": "stream",
          "text": [
            "[nltk_data] Downloading package punkt to /root/nltk_data...\n",
            "[nltk_data]   Unzipping tokenizers/punkt.zip.\n",
            "[nltk_data] Downloading package averaged_perceptron_tagger to\n",
            "[nltk_data]     /root/nltk_data...\n",
            "[nltk_data]   Unzipping taggers/averaged_perceptron_tagger.zip.\n"
          ],
          "name": "stdout"
        },
        {
          "output_type": "execute_result",
          "data": {
            "text/plain": [
              "True"
            ]
          },
          "metadata": {
            "tags": []
          },
          "execution_count": 16
        }
      ]
    },
    {
      "cell_type": "code",
      "metadata": {
        "id": "ecCBNP1bnn56",
        "colab_type": "code",
        "colab": {}
      },
      "source": [
        "final_corpus=[]\n",
        "tagged=[]\n",
        "adjectives=[]\n",
        "d2=[]\n",
        "text_adj=[]\n",
        "\n",
        "for x in range(len(corpus)):\n",
        "    d1=[]\n",
        "    text=word_tokenize(corpus[x].lower())\n",
        "    text = [stemmer.stem(y) for y in text if y not in stuff_to_be_removed]\n",
        "    tagged = nlt.pos_tag(text) \n",
        "    for x in tagged:\n",
        "        if x[1].startswith('J'):\n",
        "            d1.append(x[0])\n",
        "            d2.append(x[0])\n",
        "    counts=dict(Counter(d1))\n",
        "    ent = \" \".join(text)\n",
        "    final_corpus.append(ent)\n",
        "    adjectives.append(counts)\n",
        "    "
      ],
      "execution_count": 0,
      "outputs": []
    },
    {
      "cell_type": "code",
      "metadata": {
        "id": "j0KE6E52xy4V",
        "colab_type": "code",
        "colab": {}
      },
      "source": [
        "from nltk import pos_tag"
      ],
      "execution_count": 0,
      "outputs": []
    },
    {
      "cell_type": "code",
      "metadata": {
        "id": "oUX4007-q2AS",
        "colab_type": "code",
        "colab": {}
      },
      "source": [
        "##Extracting Adjectives\n",
        "adj=[]\n",
        "for x in range(len(final_corpus)):\n",
        "  adjs = word_tokenize(final_corpus[x])\n",
        "  adjs=[word for word,pos in pos_tag(adjs) if pos.startswith('JJ')]\n",
        "  sentjj = \" \".join(adjs)\n",
        "  adj.append(sentjj)"
      ],
      "execution_count": 0,
      "outputs": []
    },
    {
      "cell_type": "code",
      "metadata": {
        "id": "TvvsbTBLnn6m",
        "colab_type": "code",
        "colab": {
          "base_uri": "https://localhost:8080/",
          "height": 85
        },
        "outputId": "725022e2-74ec-4309-cacf-5fd5d187c177"
      },
      "source": [
        "!pip install wordcloud"
      ],
      "execution_count": 38,
      "outputs": [
        {
          "output_type": "stream",
          "text": [
            "Requirement already satisfied: wordcloud in /usr/local/lib/python3.6/dist-packages (1.5.0)\n",
            "Requirement already satisfied: numpy>=1.6.1 in /usr/local/lib/python3.6/dist-packages (from wordcloud) (1.16.4)\n",
            "Requirement already satisfied: pillow in /usr/local/lib/python3.6/dist-packages (from wordcloud) (4.3.0)\n",
            "Requirement already satisfied: olefile in /usr/local/lib/python3.6/dist-packages (from pillow->wordcloud) (0.46)\n"
          ],
          "name": "stdout"
        }
      ]
    },
    {
      "cell_type": "code",
      "metadata": {
        "id": "2oVuYPwKnn6r",
        "colab_type": "code",
        "colab": {}
      },
      "source": [
        "import matplotlib.pyplot as plt\n",
        "from wordcloud import WordCloud"
      ],
      "execution_count": 0,
      "outputs": []
    },
    {
      "cell_type": "code",
      "metadata": {
        "id": "YzBd5ebQnn6t",
        "colab_type": "code",
        "colab": {
          "base_uri": "https://localhost:8080/",
          "height": 269
        },
        "outputId": "4325f299-6e60-411d-ec50-af5d33f4cd19"
      },
      "source": [
        "d3=Counter(d2)\n",
        "wordcloud = WordCloud(height=1400,width=1400,background_color='white').generate_from_frequencies(d3) \n",
        "plt.imshow(wordcloud)\n",
        "plt.axis(\"off\")\n",
        "plt.show()"
      ],
      "execution_count": 25,
      "outputs": [
        {
          "output_type": "display_data",
          "data": {
            "image/png": "[encoded data removed]",
            "text/plain": [
              "<Figure size 432x288 with 1 Axes>"
            ]
          },
          "metadata": {
            "tags": []
          }
        }
      ]
    },
    {
      "cell_type": "code",
      "metadata": {
        "id": "mQO0GW-Enn6y",
        "colab_type": "code",
        "colab": {}
      },
      "source": [
        "from textblob import TextBlob"
      ],
      "execution_count": 0,
      "outputs": []
    },
    {
      "cell_type": "code",
      "metadata": {
        "id": "Ormelnt7ojMm",
        "colab_type": "code",
        "colab": {}
      },
      "source": [
        "##Sentiment Analysis \n",
        "sentiment = []\n",
        "classoftext=[]\n",
        "for i in range(len(adj)):\n",
        "  text=TextBlob(adj[i])\n",
        "  pol = text.sentiment\n",
        "  sentiment.append(pol)"
      ],
      "execution_count": 0,
      "outputs": []
    },
    {
      "cell_type": "code",
      "metadata": {
        "id": "ogOxxxho3uEr",
        "colab_type": "code",
        "colab": {
          "base_uri": "https://localhost:8080/",
          "height": 204
        },
        "outputId": "51f0a043-7112-435f-c20e-73e2a9b4fe41"
      },
      "source": [
        "sent_all = pd.DataFrame(sentiment)\n",
        "sent_all.head()"
      ],
      "execution_count": 29,
      "outputs": [
        {
          "output_type": "execute_result",
          "data": {
            "text/html": [
              "<div>\n",
              "<style scoped>\n",
              "    .dataframe tbody tr th:only-of-type {\n",
              "        vertical-align: middle;\n",
              "    }\n",
              "\n",
              "    .dataframe tbody tr th {\n",
              "        vertical-align: top;\n",
              "    }\n",
              "\n",
              "    .dataframe thead th {\n",
              "        text-align: right;\n",
              "    }\n",
              "</style>\n",
              "<table border=\"1\" class=\"dataframe\">\n",
              "  <thead>\n",
              "    <tr style=\"text-align: right;\">\n",
              "      <th></th>\n",
              "      <th>polarity</th>\n",
              "      <th>subjectivity</th>\n",
              "    </tr>\n",
              "  </thead>\n",
              "  <tbody>\n",
              "    <tr>\n",
              "      <th>0</th>\n",
              "      <td>-0.700000</td>\n",
              "      <td>0.666667</td>\n",
              "    </tr>\n",
              "    <tr>\n",
              "      <th>1</th>\n",
              "      <td>-0.166667</td>\n",
              "      <td>0.066667</td>\n",
              "    </tr>\n",
              "    <tr>\n",
              "      <th>2</th>\n",
              "      <td>0.800000</td>\n",
              "      <td>1.000000</td>\n",
              "    </tr>\n",
              "    <tr>\n",
              "      <th>3</th>\n",
              "      <td>0.200000</td>\n",
              "      <td>0.200000</td>\n",
              "    </tr>\n",
              "    <tr>\n",
              "      <th>4</th>\n",
              "      <td>0.000000</td>\n",
              "      <td>0.066667</td>\n",
              "    </tr>\n",
              "  </tbody>\n",
              "</table>\n",
              "</div>"
            ],
            "text/plain": [
              "   polarity  subjectivity\n",
              "0 -0.700000      0.666667\n",
              "1 -0.166667      0.066667\n",
              "2  0.800000      1.000000\n",
              "3  0.200000      0.200000\n",
              "4  0.000000      0.066667"
            ]
          },
          "metadata": {
            "tags": []
          },
          "execution_count": 29
        }
      ]
    },
    {
      "cell_type": "code",
      "metadata": {
        "id": "fPJPeRDg5FzF",
        "colab_type": "code",
        "colab": {}
      },
      "source": [
        "###Classification into postive,negative and neutral\n",
        "\n",
        "classi=[]\n",
        "for i in sent_all['polarity']:\n",
        "  if i > 0.00 and i <=1:\n",
        "    classi.append('Positive')\n",
        "  elif i == 0.00:\n",
        "    classi.append('Neutral')\n",
        "  else:\n",
        "    classi.append('Negative')\n"
      ],
      "execution_count": 0,
      "outputs": []
    },
    {
      "cell_type": "code",
      "metadata": {
        "id": "d6KnIviE6Bje",
        "colab_type": "code",
        "colab": {}
      },
      "source": [
        "## Final output\n",
        "pol = sent_all['polarity'].tolist()\n",
        "finaldf=pd.DataFrame()\n",
        "finaldf['processed_data']=final_corpus\n",
        "finaldf['adjectives']=adj\n",
        "finaldf['polarity']=pol\n",
        "finaldf['classification']=classi"
      ],
      "execution_count": 0,
      "outputs": []
    },
    {
      "cell_type": "code",
      "metadata": {
        "id": "6bQTnOPH_AvH",
        "colab_type": "code",
        "colab": {
          "base_uri": "https://localhost:8080/",
          "height": 204
        },
        "outputId": "90ffdcf6-c75a-4db2-a975-68e747403bcf"
      },
      "source": [
        "finaldf.head()"
      ],
      "execution_count": 116,
      "outputs": [
        {
          "output_type": "execute_result",
          "data": {
            "text/html": [
              "<div>\n",
              "<style scoped>\n",
              "    .dataframe tbody tr th:only-of-type {\n",
              "        vertical-align: middle;\n",
              "    }\n",
              "\n",
              "    .dataframe tbody tr th {\n",
              "        vertical-align: top;\n",
              "    }\n",
              "\n",
              "    .dataframe thead th {\n",
              "        text-align: right;\n",
              "    }\n",
              "</style>\n",
              "<table border=\"1\" class=\"dataframe\">\n",
              "  <thead>\n",
              "    <tr style=\"text-align: right;\">\n",
              "      <th></th>\n",
              "      <th>processed_data</th>\n",
              "      <th>adjectives</th>\n",
              "      <th>polarity</th>\n",
              "      <th>classification</th>\n",
              "    </tr>\n",
              "  </thead>\n",
              "  <tbody>\n",
              "    <tr>\n",
              "      <th>0</th>\n",
              "      <td>ord 3 on item bad qual miss backup spring put ...</td>\n",
              "      <td>bad qual</td>\n",
              "      <td>-0.700000</td>\n",
              "      <td>Negative</td>\n",
              "    </tr>\n",
              "    <tr>\n",
              "      <th>1</th>\n",
              "      <td>bulk alway less expend way go produc lik</td>\n",
              "      <td>bulk less expend produc</td>\n",
              "      <td>-0.166667</td>\n",
              "      <td>Negative</td>\n",
              "    </tr>\n",
              "    <tr>\n",
              "      <th>2</th>\n",
              "      <td>wel duracel pric happy</td>\n",
              "      <td>happy</td>\n",
              "      <td>0.800000</td>\n",
              "      <td>Positive</td>\n",
              "    </tr>\n",
              "    <tr>\n",
              "      <th>3</th>\n",
              "      <td>seem work wel nam brand battery much bet pric</td>\n",
              "      <td>seem nam much</td>\n",
              "      <td>0.200000</td>\n",
              "      <td>Positive</td>\n",
              "    </tr>\n",
              "    <tr>\n",
              "      <th>4</th>\n",
              "      <td>battery long last pric gre</td>\n",
              "      <td>last pric</td>\n",
              "      <td>0.000000</td>\n",
              "      <td>Neutral</td>\n",
              "    </tr>\n",
              "  </tbody>\n",
              "</table>\n",
              "</div>"
            ],
            "text/plain": [
              "                                      processed_data  ... classification\n",
              "0  ord 3 on item bad qual miss backup spring put ...  ...       Negative\n",
              "1           bulk alway less expend way go produc lik  ...       Negative\n",
              "2                             wel duracel pric happy  ...       Positive\n",
              "3      seem work wel nam brand battery much bet pric  ...       Positive\n",
              "4                         battery long last pric gre  ...        Neutral\n",
              "\n",
              "[5 rows x 4 columns]"
            ]
          },
          "metadata": {
            "tags": []
          },
          "execution_count": 116
        }
      ]
    },
    {
      "cell_type": "code",
      "metadata": {
        "id": "-mDq4-GV_MeG",
        "colab_type": "code",
        "colab": {}
      },
      "source": [
        "#Plotting graphs for the classification\n",
        "import matplotlib.pyplot as plt"
      ],
      "execution_count": 0,
      "outputs": []
    },
    {
      "cell_type": "code",
      "metadata": {
        "id": "Z8St2I0gEyWZ",
        "colab_type": "code",
        "colab": {
          "base_uri": "https://localhost:8080/",
          "height": 269
        },
        "outputId": "42acb2f0-86fb-49b5-c55f-03e115d311d6"
      },
      "source": [
        "plt.hist(pol,bins=40)\n",
        "plt.show()"
      ],
      "execution_count": 42,
      "outputs": [
        {
          "output_type": "display_data",
          "data": {
            "image/png": "[encoded data removed]",
            "text/plain": [
              "<Figure size 432x288 with 1 Axes>"
            ]
          },
          "metadata": {
            "tags": []
          }
        }
      ]
    },
    {
      "cell_type": "code",
      "metadata": {
        "id": "alzX0aYKHPxR",
        "colab_type": "code",
        "colab": {}
      },
      "source": [
        "# This shows that most of the reviews are having a positive sentiment."
      ],
      "execution_count": 0,
      "outputs": []
    }
  ]
}